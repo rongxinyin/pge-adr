{
 "cells": [
  {
   "cell_type": "code",
   "execution_count": 1,
   "metadata": {
    "collapsed": true
   },
   "outputs": [],
   "source": [
    "from __future__ import division\n",
    "\n",
    "import os.path\n",
    "import pandas as pd\n",
    "import numpy as np\n",
    "import csv\n",
    "import glob\n",
    "\n",
    "import matplotlib.pyplot as plt\n",
    "import seaborn as sns\n",
    "\n",
    "import datetime\n",
    "\n",
    "%matplotlib inline\n"
   ]
  },
  {
   "cell_type": "code",
   "execution_count": 2,
   "metadata": {
    "collapsed": true
   },
   "outputs": [],
   "source": [
    "customers = pd.read_csv('../../pge/D1977customers.csv',delimiter=',')\n",
    "df_said = customers[['SAID','ZIPCODE','sublap']]"
   ]
  },
  {
   "cell_type": "code",
   "execution_count": 3,
   "metadata": {
    "collapsed": false
   },
   "outputs": [],
   "source": [
    "count = 0\n",
    "for part in glob.glob('../../pge/D19771/part*'):\n",
    "    df = pd.read_csv(part,delimiter=',')\n",
    "    df = df.rename(columns = {'SA':'SAID'})\n",
    "    df = pd.merge(df, df_said, on = ['SAID'])\n",
    "    \n",
    "    for zipcode in list(set(df.ZIPCODE)):\n",
    "        df_zipcode = df.loc[df.ZIPCODE == zipcode,]\n",
    "        with open('../../pge/D1977ZipCode/'+str(zipcode)+'.csv', 'a') as f:\n",
    "            df_zipcode.to_csv(f, header=False)\n",
    "    count += 1\n",
    "    print 'Processed '+ \"{0:0f}%\".format(count/250 * 100) + ' of the total data in D197771'"
   ]
  }
 ],
 "metadata": {
  "anaconda-cloud": {},
  "kernelspec": {
   "display_name": "Python [default]",
   "language": "python",
   "name": "python3"
  },
  "language_info": {
   "codemirror_mode": {
    "name": "ipython",
    "version": 3
   },
   "file_extension": ".py",
   "mimetype": "text/x-python",
   "name": "python",
   "nbconvert_exporter": "python",
   "pygments_lexer": "ipython3",
   "version": "3.5.2"
  }
 },
 "nbformat": 4,
 "nbformat_minor": 1
}
